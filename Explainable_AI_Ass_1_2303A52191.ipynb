{
  "nbformat": 4,
  "nbformat_minor": 0,
  "metadata": {
    "colab": {
      "provenance": []
    },
    "kernelspec": {
      "name": "python3",
      "display_name": "Python 3"
    },
    "language_info": {
      "name": "python"
    }
  },
  "cells": [
    {
      "cell_type": "markdown",
      "source": [
        "Q1: DriveFast – Car Rental App (Simple Linear Regression + SHAP)"
      ],
      "metadata": {
        "id": "5i2-sdrAyiZw"
      }
    },
    {
      "cell_type": "code",
      "execution_count": null,
      "metadata": {
        "colab": {
          "base_uri": "https://localhost:8080/"
        },
        "id": "RCps3nK-x-yv",
        "outputId": "eb5857f6-2a48-42a1-c64f-ee6e11542543"
      },
      "outputs": [
        {
          "output_type": "stream",
          "name": "stdout",
          "text": [
            "Model: y = 18.85 + 11.73x\n",
            "Baseline (mean of bookings): 47.00\n",
            "   AppDownloads (x100s)  Actual Bookings  Predicted Bookings  SHAP Value  \\\n",
            "0                     2               40               42.31       -4.69   \n",
            "1                     3               55               54.04        7.04   \n",
            "2                     1               30               30.58      -16.42   \n",
            "3                     2               45               42.31       -4.69   \n",
            "4                     4               65               65.77       18.77   \n",
            "\n",
            "  Over/Under  \n",
            "0       Over  \n",
            "1      Under  \n",
            "2       Over  \n",
            "3      Under  \n",
            "4       Over  \n"
          ]
        }
      ],
      "source": [
        " import numpy as np\n",
        " import pandas as pd\n",
        " import matplotlib.pyplot as plt\n",
        " from sklearn.linear_model import LinearRegression\n",
        " downloads = np.array([2, 3, 1, 2, 4]).reshape(-1, 1)\n",
        " bookings = np.array([40, 55, 30, 45, 65])\n",
        " model = LinearRegression()\n",
        " model.fit(downloads, bookings)\n",
        " slope = model.coef_[0]\n",
        " intercept = model.intercept_\n",
        " print(f\"Model: y = {intercept:.2f} + {slope:.2f}x\")\n",
        " baseline = np.mean(bookings)\n",
        " print(f\"Baseline (mean of bookings): {baseline:.2f}\")\n",
        " predictions = model.predict(downloads)\n",
        " shap_values = predictions - baseline\n",
        " results = pd.DataFrame({\n",
        "    \"AppDownloads (x100s)\": downloads.flatten(),\n",
        "    \"Actual Bookings\": bookings,\n",
        "    \"Predicted Bookings\": predictions.round(2),\n",
        "    \"SHAP Value\": shap_values.round(2),\n",
        "    \"Over/Under\": [\"Under\" if p < a else \"Over\" if p > a else \"Exact\"\n",
        "for p, a in zip(predictions, bookings)]\n",
        " })\n",
        " print(results)"
      ]
    },
    {
      "cell_type": "markdown",
      "source": [
        "Q2: DriveFast – Car Rental Demand (Multiple Linear Regression + SHAP)"
      ],
      "metadata": {
        "id": "Wuc7rWF9zNfU"
      }
    },
    {
      "cell_type": "code",
      "source": [
        " import numpy as np\n",
        " import pandas as pd\n",
        " from sklearn.linear_model import LinearRegression\n",
        " X = pd.DataFrame({\n",
        "    \"FuelPrice\": [90, 85, 95, 80, 92],\n",
        "    \"Holiday\": [0, 1, 0, 1, 0]\n",
        " })\n",
        " y = np.array([100, 130, 90, 140, 95])\n",
        " model = LinearRegression()\n",
        " model.fit(X, y)\n",
        " coef = model.coef_\n",
        " intercept = model.intercept_\n",
        " print(f\"Model: y = {intercept:.2f} + {coef[0]:.2f}*FuelPrice + {coef[1]:.2f}*Holiday\")\n",
        " baseline = np.mean(y)\n",
        " print(f\"Baseline: {baseline:.2f}\")\n",
        " preds = model.predict(X)\n",
        " shap_values = preds - baseline\n",
        " shap_fuel = coef[0] * (X[\"FuelPrice\"] - X[\"FuelPrice\"].mean())\n",
        " shap_holiday = coef[1] * (X[\"Holiday\"] - X[\"Holiday\"].mean())\n",
        " results = pd.DataFrame({\n",
        "    \"FuelPrice\": X[\"FuelPrice\"],\n",
        "    \"Holiday\": X[\"Holiday\"],\n",
        "    \"Actual Rentals\": y,\n",
        "    \"Predicted Rentals\": preds.round(2),\n",
        "    \"SHAP FuelPrice\": shap_fuel.round(2),\n",
        "    \"SHAP Holiday\": shap_holiday.round(2),\n",
        "    \"SHAP Total\": shap_values.round(2),\n",
        "    \"Over/Under\": [\"Under\" if p < a else \"Over\" if p > a else \"Exact\"\n",
        "for p, a in zip(preds, y)]\n",
        " })\n",
        " print(results)"
      ],
      "metadata": {
        "colab": {
          "base_uri": "https://localhost:8080/"
        },
        "id": "sPc641OkzAE-",
        "outputId": "157da5c1-24dc-44f8-a82f-78c1929f7130"
      },
      "execution_count": null,
      "outputs": [
        {
          "output_type": "stream",
          "name": "stdout",
          "text": [
            "Model: y = 278.44 + -1.99*FuelPrice + 20.46*Holiday\n",
            "Baseline: 111.00\n",
            "   FuelPrice  Holiday  Actual Rentals  Predicted Rentals  SHAP FuelPrice  \\\n",
            "0         90        0             100              99.64           -3.18   \n",
            "1         85        1             130             130.03            6.75   \n",
            "2         95        0              90              89.70          -13.11   \n",
            "3         80        1             140             139.97           16.69   \n",
            "4         92        0              95              95.66           -7.15   \n",
            "\n",
            "   SHAP Holiday  SHAP Total Over/Under  \n",
            "0         -8.19      -11.36      Under  \n",
            "1         12.28       19.03       Over  \n",
            "2         -8.19      -21.30      Under  \n",
            "3         12.28       28.97      Under  \n",
            "4         -8.19      -15.34       Over  \n"
          ]
        }
      ]
    },
    {
      "cell_type": "markdown",
      "source": [
        "Q3: Diabetes Dataset Regression + SHAP"
      ],
      "metadata": {
        "id": "G_naDPbSzQNi"
      }
    },
    {
      "cell_type": "code",
      "source": [
        " import numpy as np\n",
        " import pandas as pd\n",
        " from sklearn.datasets import load_diabetes\n",
        " from sklearn.linear_model import LinearRegression\n",
        " from sklearn.model_selection import train_test_split\n",
        " data = load_diabetes()\n",
        " X = pd.DataFrame(data.data, columns=data.feature_names)\n",
        " y = data.target\n",
        " X_train, X_test, y_train, y_test = train_test_split(X, y,\n",
        "random_state=42)\n",
        " model = LinearRegression()\n",
        " model.fit(X_train, y_train)\n",
        "coef = model.coef_intercept = model.intercept_baseline = np.mean(y_train)\n",
        "print(f\"Baseline (mean of target): {baseline:.2f}\")\n",
        " y_pred = model.predict(X_test)\n",
        " shap_values = y_pred - baseline\n",
        " feature_shap = X_test.mul(coef, axis=1)\n",
        " summary = pd.DataFrame(feature_shap.sum(axis=1), columns=[\"SHAP Total\"])\n",
        " summary[\"Baseline\"] = baseline\n",
        " summary[\"Predicted\"] = y_pred\n",
        " summary[\"Actual\"] = y_test\n",
        " summary[\"Over/Under\"] = [\"Under\" if p < a else \"Over\" if p > a else\n",
        "\"Exact\" for p, a in zip(y_pred, y_test)]\n",
        " print(summary.head())"
      ],
      "metadata": {
        "colab": {
          "base_uri": "https://localhost:8080/"
        },
        "id": "mI9VYqBwzWq2",
        "outputId": "4fb1cf2b-4903-4b79-cb24-3adee9e7356b"
      },
      "execution_count": null,
      "outputs": [
        {
          "output_type": "stream",
          "name": "stdout",
          "text": [
            "Baseline (mean of target): 111.00\n",
            "     SHAP Total  Baseline   Predicted  Actual Over/Under\n",
            "287   47.757185     111.0  137.949089   219.0      Under\n",
            "211   -2.768381     111.0  182.533354    70.0       Over\n",
            "72    57.049891     111.0  129.852954   202.0      Under\n",
            "321   76.975598     111.0  292.563092   230.0       Over\n",
            "73    22.474258     111.0  124.867882   111.0       Over\n"
          ]
        }
      ]
    },
    {
      "cell_type": "markdown",
      "source": [
        "Q4: Student Performance Dataset Regression + SHAP"
      ],
      "metadata": {
        "id": "p3F_UuZwz1zf"
      }
    },
    {
      "cell_type": "code",
      "source": [
        " import zipfile\n",
        " import urllib.request\n",
        " from sklearn.model_selection import train_test_split\n",
        " from sklearn.linear_model import LinearRegression\n",
        " import numpy as np\n",
        " url = \"https://archive.ics.uci.edu/ml/machine-learning-databases/00320/student.zip\"\n",
        " urllib.request.urlretrieve(url, \"student.zip\")\n",
        " with zipfile.ZipFile(\"student.zip\", 'r') as zip_ref:\n",
        "    zip_ref.extractall()\n",
        " df = pd.read_csv(\"student-mat.csv\", sep=';')\n",
        " features = ['studytime', 'failures', 'absences', 'Medu', 'Fedu']\n",
        " target = 'G3'\n",
        "X = df[features]\n",
        " y = df[target]\n",
        " X_train, X_test, y_train, y_test = train_test_split(X, y,\n",
        "random_state=42)\n",
        " model = LinearRegression()\n",
        " model.fit(X_train, y_train)\n",
        " coefs = model.coef_\n",
        " intercept = model.intercept_\n",
        " baseline = y_train.mean()\n",
        " print(f\"\\nModel: G3 = {intercept:.2f} + \" + \" + \".join([f\"{c:.2f}*{f}\"\n",
        "for c, f in zip(coefs, features)]))\n",
        " print(f\"Baseline (mean final grade G3): {baseline:.2f}\")\n",
        " y_pred = model.predict(X_test)\n",
        " shap_contributions = X_test * coefs\n",
        " shap_total = shap_contributions.sum(axis=1)\n",
        " results = pd.DataFrame({\n",
        "    \"Actual G3\": y_test.values,\n",
        "    \"Predicted G3\": y_pred,\n",
        "    \"SHAP Total\": shap_total,\n",
        "    \"Baseline\": baseline,\n",
        "    \"Over/Under\": [\"Under\" if pred < actual else \"Over\" if pred >\n",
        "actual else \"Exact\"\n",
        "                   for pred, actual in zip(y_pred, y_test)]\n",
        " })\n",
        " for i, feature in enumerate(features):\n",
        "    results[f\"SHAP_{feature}\"] = shap_contributions[feature]\n",
        " pd.set_option(\"display.max_columns\", None)\n",
        " print(results.head(10))"
      ],
      "metadata": {
        "colab": {
          "base_uri": "https://localhost:8080/"
        },
        "id": "7TZ9Lctyz_Pq",
        "outputId": "420fc521-74e3-44af-a917-9643af816cad"
      },
      "execution_count": null,
      "outputs": [
        {
          "output_type": "stream",
          "name": "stdout",
          "text": [
            "\n",
            "Model: G3 = 9.43 + 0.36*studytime + -2.07*failures + 0.03*absences + 0.65*Medu + -0.41*Fedu\n",
            "Baseline (mean final grade G3): 10.39\n",
            "     Actual G3  Predicted G3  SHAP Total   Baseline Over/Under  \\\n",
            "78          10      4.525151   -4.902063  10.385135      Under   \n",
            "371         12      9.702657    0.275443  10.385135      Under   \n",
            "248          5      9.030174   -0.397040  10.385135       Over   \n",
            "55          10     11.271734    1.844520  10.385135       Over   \n",
            "390          9      6.809595   -2.617619  10.385135      Under   \n",
            "223         13     10.622006    1.194792  10.385135      Under   \n",
            "42          18     11.161360    1.734146  10.385135      Under   \n",
            "234          6     10.918486    1.491272  10.385135       Over   \n",
            "316          0     11.033352    1.606139  10.385135       Over   \n",
            "116         14     11.161360    1.734146  10.385135      Under   \n",
            "\n",
            "     SHAP_studytime  SHAP_failures  SHAP_absences  SHAP_Medu  SHAP_Fedu  \n",
            "78         0.357517      -6.210280       0.059595   1.302451  -0.411346  \n",
            "371        0.357517      -0.000000       0.089393   0.651225  -0.822692  \n",
            "248        0.715034      -2.070093       0.238382   1.953676  -1.234038  \n",
            "55         0.715034      -0.000000       0.238382   1.302451  -0.411346  \n",
            "390        0.715034      -4.140187       0.327775   1.302451  -0.822692  \n",
            "223        0.715034      -0.000000       0.000000   1.302451  -0.822692  \n",
            "42         0.715034      -0.000000       0.059595   2.604902  -1.645385  \n",
            "234        0.715034      -0.000000       0.536359   0.651225  -0.411346  \n",
            "316        0.715034      -0.000000       0.000000   1.302451  -0.411346  \n",
            "116        0.715034      -0.000000       0.059595   2.604902  -1.645385  \n"
          ]
        }
      ]
    }
  ]
}